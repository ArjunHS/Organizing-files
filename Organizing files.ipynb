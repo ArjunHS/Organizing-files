{
 "cells": [
  {
   "cell_type": "markdown",
   "id": "a5a75e13-926a-4216-8a6e-6da7b88fadae",
   "metadata": {},
   "source": [
    "# Organizing files in a folder according to file format\n",
    "### Organizing files by grouping all similar files together reduces a lot of clutter from our folders and helps organize files better and keep our folders neat and tidy.\n",
    "### By Arjun HS"
   ]
  },
  {
   "cell_type": "markdown",
   "id": "519d7645-8abe-45e9-9374-fa9eafeecb6d",
   "metadata": {},
   "source": [
    "### Importing libraries"
   ]
  },
  {
   "cell_type": "code",
   "execution_count": 224,
   "id": "24311e0b-6092-4e4a-bbbb-d82c83827b9a",
   "metadata": {},
   "outputs": [],
   "source": [
    "import os\n",
    "import shutil\n",
    "import re"
   ]
  },
  {
   "cell_type": "markdown",
   "id": "796983d2-c22f-449d-a6da-d88f6d2653a4",
   "metadata": {},
   "source": [
    "### Setting up folder location in which we need to organize files"
   ]
  },
  {
   "cell_type": "code",
   "execution_count": 225,
   "id": "3d50e703-0097-4092-ba24-ff7e0f7e2425",
   "metadata": {},
   "outputs": [],
   "source": [
    "src=r\"/home/flash/Downloads\""
   ]
  },
  {
   "cell_type": "markdown",
   "id": "c1059231-953a-4c94-8dfe-0a7c32c775ad",
   "metadata": {},
   "source": [
    "### Listing all the files in the folder"
   ]
  },
  {
   "cell_type": "code",
   "execution_count": 226,
   "id": "0cd7f8df-5a14-4120-85ac-cb448f42cb54",
   "metadata": {},
   "outputs": [
    {
     "data": {
      "text/plain": [
       "['kXJT4OToRMqyU-Dk6DTK8A_467f92d40ff04b799ff122a16925b6f1_Web-Measurement-Terminology.pdf',\n",
       " 'Arj.xcf',\n",
       " 'aJKD.mkv',\n",
       " 'Candidate_old.xlsx',\n",
       " 'Black-Hole-Concentration-in-NGC-6397-scaled.jpg',\n",
       " 'ChicagoPublicSchools.csv',\n",
       " 'Dance Electric - TrackTribe.mp3',\n",
       " 'FilterCopyFiles.txt',\n",
       " 'auto.txt',\n",
       " 'askndalkn.docx',\n",
       " 'asbka.xlsx',\n",
       " 'QBDLQ.xlsx',\n",
       " 'BNHAn2YQSYmRwJ9mEAmJ_w_a171c610d6a24032a4169eced319ecf1_The-Future-of-Marketing-is-Data.pdf',\n",
       " 'AJDBljD.xlsx',\n",
       " 'Adele.mp3',\n",
       " 'Data-ware-Project-Documentation-Template.pdf',\n",
       " 'reportlab-userguide.pdf',\n",
       " 'Shutil3_rename.txt',\n",
       " 'ABDLj.docx',\n",
       " 'oooInitialization.txt',\n",
       " 'document(1).pdf',\n",
       " 'ylj6w_VgQ1SY-sP1YHNUyQ_9e5be217bbb043a0966727d85a70f9f1_Marketing-and-Data-Sets.pdf',\n",
       " 'word_cloud.png',\n",
       " 'Rename_and_move.txt',\n",
       " 'ChicagoCensusData.csv',\n",
       " 'ChicagoCrimeData.csv',\n",
       " 'BPA.txt',\n",
       " 'AlanWalker.mp3',\n",
       " 'Make-your-content-more-accessible.pdf',\n",
       " 'Info for Data Dictionary.xlsx',\n",
       " 'Process Automation with Python.docx',\n",
       " '_DSF0039.JPG',\n",
       " '_DSF0043.JPG',\n",
       " 'data.csv',\n",
       " 'Shutil2.txt',\n",
       " 'No_name_vdr.txt',\n",
       " 'novdr_fullAuto.txt',\n",
       " 'cyberpunk-5774101.jpg',\n",
       " 'Rename_Keep.txt',\n",
       " '_DSF0042.JPG',\n",
       " 'R617392718(1).pdf',\n",
       " 'ylj6w_VgQ1SY-sP1YHNUyQ_9e5be217bbb043a0966727d85a70f9f1_Marketing-and-Data-Sets(1).pdf',\n",
       " 'Old.docx',\n",
       " 'interpretation_of_dreams.txt',\n",
       " 'document.pdf',\n",
       " 'kXJT4OToRMqyU-Dk6DTK8A_467f92d40ff04b799ff122a16925b6f1_Web-Measurement-Terminology(1).pdf',\n",
       " '_DSF0041.JPG',\n",
       " 'encoding.txt',\n",
       " 'DSCF0271.MOV',\n",
       " 'Shutil1.txt']"
      ]
     },
     "execution_count": 226,
     "metadata": {},
     "output_type": "execute_result"
    }
   ],
   "source": [
    "files=os.listdir(src)\n",
    "files"
   ]
  },
  {
   "cell_type": "markdown",
   "id": "192e5778-67ee-4365-9fee-e3ffeae9027a",
   "metadata": {},
   "source": [
    "### Creating folders based on file formats"
   ]
  },
  {
   "cell_type": "code",
   "execution_count": 227,
   "id": "bb06ae60-b722-49b7-9674-2da5b6bddd2d",
   "metadata": {},
   "outputs": [
    {
     "name": "stdout",
     "output_type": "stream",
     "text": [
      "Directory /home/flash/Downloads/pdf Created\n",
      "Directory /home/flash/Downloads/Excel Created\n",
      "Directory /home/flash/Downloads/text Created\n",
      "Directory /home/flash/Downloads/word Created\n",
      "Directory /home/flash/Downloads/csv Created\n",
      "Directory /home/flash/Downloads/Images Created\n",
      "Directory /home/flash/Downloads/Video Created\n",
      "Directory /home/flash/Downloads/Audio Created\n"
     ]
    }
   ],
   "source": [
    "pdf=os.path.join(src,\"pdf\")\n",
    "Excel=os.path.join(src,\"Excel\")\n",
    "text=os.path.join(src,\"text\")\n",
    "word=os.path.join(src,\"word\")\n",
    "csv=os.path.join(src,\"csv\")\n",
    "Images=os.path.join(src,\"Images\")\n",
    "Video=os.path.join(src,\"Video\")\n",
    "Audio=os.path.join(src,\"Audio\")\n",
    "\n",
    "Dirlist=[pdf,Excel,text,word,csv,Images,Video,Audio]\n",
    "for i in Dirlist:\n",
    "    try: \n",
    "        os.mkdir(i)\n",
    "        print(\"Directory\", i, \"Created\")    \n",
    "    except FileExistsError:\n",
    "        print(\"Directory\", i, \"already exists\")"
   ]
  },
  {
   "cell_type": "markdown",
   "id": "d5a4a261-925f-4b37-ba38-4ba73f8275bd",
   "metadata": {},
   "source": [
    "### Moving files to their respective folders"
   ]
  },
  {
   "cell_type": "code",
   "execution_count": 228,
   "id": "107a766b-0511-4871-803d-eaf55b7cf493",
   "metadata": {},
   "outputs": [
    {
     "name": "stdout",
     "output_type": "stream",
     "text": [
      "11 Pdf files were moved to 'pdf' folder\n",
      "5 Excel files were moved to 'Excel' folder\n",
      "13 Text files were moved to 'text' folder\n",
      "4 Word files were moved to 'word' folder\n",
      "4 CSV files were moved to 'csv' folder\n",
      "8 Image files were moved to 'Images' folder\n",
      "3 Audio files were moved to 'Audio' folder\n",
      "2 Video files were moved to 'Video' folder\n"
     ]
    }
   ],
   "source": [
    "count=0\n",
    "for f in files:\n",
    "    if re.search(r\"(?i)\\.pdf\",f):\n",
    "        pdffiles=os.path.join(src,f)\n",
    "        count+=1\n",
    "        shutil.move(pdffiles,pdf)\n",
    "print(count,\"Pdf files were moved to 'pdf' folder\")\n",
    "\n",
    "count=0\n",
    "for f in files:\n",
    "    if re.search(r\"(?i)\\.xlsx\",f):\n",
    "        xlfiles=os.path.join(src,f)\n",
    "        count+=1\n",
    "        shutil.move(xlfiles,Excel)\n",
    "print(count,\"Excel files were moved to 'Excel' folder\")\n",
    "\n",
    "count=0\n",
    "for f in files:\n",
    "    if re.search(r\"(?i)\\.txt\",f):\n",
    "        txtfiles=os.path.join(src,f)\n",
    "        count+=1\n",
    "        shutil.move(txtfiles,text)\n",
    "print(count,\"Text files were moved to 'text' folder\")\n",
    "\n",
    "count=0\n",
    "for f in files:\n",
    "    if re.search(r\"(?i)\\.docx\",f):\n",
    "        docfiles=os.path.join(src,f)\n",
    "        count+=1\n",
    "        shutil.move(docfiles,word)\n",
    "print(count,\"Word files were moved to 'word' folder\")\n",
    "\n",
    "count=0\n",
    "for f in files:\n",
    "    if re.search(r\"(?i)\\.csv\",f):\n",
    "        csvfiles=os.path.join(src,f)\n",
    "        count+=1\n",
    "        shutil.move(csvfiles,csv)\n",
    "print(count,\"CSV files were moved to 'csv' folder\")\n",
    "\n",
    "count=0\n",
    "for f in files:\n",
    "    if re.search(r\"(?i)\\.png\",f) or re.search(r\"(?i)\\.jpg\",f) or re.search(r\"(?i)\\.jpeg\",f) or re.search(r\"(?i)\\.xcf\",f):\n",
    "        imgfiles=os.path.join(src,f)\n",
    "        count+=1\n",
    "        shutil.move(imgfiles,Images)\n",
    "print(count,\"Image files were moved to 'Images' folder\")\n",
    "\n",
    "count=0\n",
    "for f in files:\n",
    "    if re.search(r\"(?i)\\.mp3\",f):\n",
    "        audio_files=os.path.join(src,f)\n",
    "        count+=1\n",
    "        shutil.move(audio_files,Audio)\n",
    "print(count,\"Audio files were moved to 'Audio' folder\")\n",
    "\n",
    "count=0\n",
    "for f in files:\n",
    "    if re.search(r\"(?i)\\.mov\",f) or re.search(r\"(?i)\\.wmv\",f) or re.search(r\"(?i)\\.mp4\",f) or re.search(r\"(?i)\\.mkv\",f):\n",
    "        video_files=os.path.join(src,f)\n",
    "        count+=1\n",
    "        shutil.move(video_files,Video)\n",
    "print(count,\"Video files were moved to 'Video' folder\")\n"
   ]
  },
  {
   "cell_type": "code",
   "execution_count": null,
   "id": "96616c4c-732b-40fd-9315-0ce7b0f33f60",
   "metadata": {},
   "outputs": [],
   "source": []
  }
 ],
 "metadata": {
  "kernelspec": {
   "display_name": "Python 3",
   "language": "python",
   "name": "python3"
  },
  "language_info": {
   "codemirror_mode": {
    "name": "ipython",
    "version": 3
   },
   "file_extension": ".py",
   "mimetype": "text/x-python",
   "name": "python",
   "nbconvert_exporter": "python",
   "pygments_lexer": "ipython3",
   "version": "3.8.10"
  }
 },
 "nbformat": 4,
 "nbformat_minor": 5
}
