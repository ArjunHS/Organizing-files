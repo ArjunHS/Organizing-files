{
 "cells": [
  {
   "cell_type": "markdown",
   "id": "a5a75e13-926a-4216-8a6e-6da7b88fadae",
   "metadata": {},
   "source": [
    "# Organizing files in a folder according to file format\n",
    "### Organizing files by grouping all similar files together reduces a lot of clutter from our folders and helps organize files better and keep our folders neat and tidy.\n",
    "### By Arjun HS"
   ]
  },
  {
   "cell_type": "markdown",
   "id": "519d7645-8abe-45e9-9374-fa9eafeecb6d",
   "metadata": {},
   "source": [
    "### Importing libraries"
   ]
  },
  {
   "cell_type": "code",
   "execution_count": 219,
   "id": "24311e0b-6092-4e4a-bbbb-d82c83827b9a",
   "metadata": {},
   "outputs": [],
   "source": [
    "import os\n",
    "import shutil\n",
    "import re"
   ]
  },
  {
   "cell_type": "markdown",
   "id": "796983d2-c22f-449d-a6da-d88f6d2653a4",
   "metadata": {},
   "source": [
    "### Setting up folder location in which we need to organize files"
   ]
  },
  {
   "cell_type": "code",
   "execution_count": 220,
   "id": "3d50e703-0097-4092-ba24-ff7e0f7e2425",
   "metadata": {},
   "outputs": [],
   "source": [
    "src=r\"/home/username/Downloads\""
   ]
  },
  {
   "cell_type": "markdown",
   "id": "c1059231-953a-4c94-8dfe-0a7c32c775ad",
   "metadata": {},
   "source": [
    "### Listing all the files in the folder"
   ]
  },
  {
   "cell_type": "code",
   "execution_count": 221,
   "id": "0cd7f8df-5a14-4120-85ac-cb448f42cb54",
   "metadata": {},
   "outputs": [
    {
     "data": {
      "text/plain": [
       "['Excel',\n",
       " 'pdf',\n",
       " 'Audio',\n",
       " 'cyberpunk-pdf.JPG',\n",
       " 'csv',\n",
       " 'Images',\n",
       " 'text',\n",
       " 'Video',\n",
       " 'word']"
      ]
     },
     "execution_count": 221,
     "metadata": {},
     "output_type": "execute_result"
    }
   ],
   "source": [
    "files=os.listdir(src)\n",
    "files"
   ]
  },
  {
   "cell_type": "markdown",
   "id": "192e5778-67ee-4365-9fee-e3ffeae9027a",
   "metadata": {},
   "source": [
    "### Creating folders based on file formats"
   ]
  },
  {
   "cell_type": "code",
   "execution_count": 222,
   "id": "bb06ae60-b722-49b7-9674-2da5b6bddd2d",
   "metadata": {},
   "outputs": [
    {
     "name": "stdout",
     "output_type": "stream",
     "text": [
      "Directory /home/flash/Downloads/pdf already exists\n",
      "Directory /home/flash/Downloads/Excel already exists\n",
      "Directory /home/flash/Downloads/text already exists\n",
      "Directory /home/flash/Downloads/word already exists\n",
      "Directory /home/flash/Downloads/csv already exists\n",
      "Directory /home/flash/Downloads/Images already exists\n",
      "Directory /home/flash/Downloads/Video already exists\n",
      "Directory /home/flash/Downloads/Audio already exists\n"
     ]
    }
   ],
   "source": [
    "pdf=os.path.join(src,\"pdf\")\n",
    "Excel=os.path.join(src,\"Excel\")\n",
    "text=os.path.join(src,\"text\")\n",
    "word=os.path.join(src,\"word\")\n",
    "csv=os.path.join(src,\"csv\")\n",
    "Images=os.path.join(src,\"Images\")\n",
    "Video=os.path.join(src,\"Video\")\n",
    "Audio=os.path.join(src,\"Audio\")\n",
    "\n",
    "Dirlist=[pdf,Excel,text,word,csv,Images,Video,Audio]\n",
    "for i in Dirlist:\n",
    "    try: \n",
    "        os.mkdir(i)\n",
    "        print(\"Directory\", i, \"Created\")    \n",
    "    except FileExistsError:\n",
    "        print(\"Directory\", i, \"already exists\")"
   ]
  },
  {
   "cell_type": "markdown",
   "id": "d5a4a261-925f-4b37-ba38-4ba73f8275bd",
   "metadata": {},
   "source": [
    "### Moving files to their respective folders"
   ]
  },
  {
   "cell_type": "code",
   "execution_count": 223,
   "id": "107a766b-0511-4871-803d-eaf55b7cf493",
   "metadata": {},
   "outputs": [
    {
     "name": "stdout",
     "output_type": "stream",
     "text": [
      "0 Pdf files were moved to 'pdf' folder\n",
      "0 Excel files were moved to 'Excel' folder\n",
      "0 Text files were moved to 'text' folder\n",
      "0 Word files were moved to 'word' folder\n",
      "0 CSV files were moved to 'csv' folder\n",
      "1 Image files were moved to 'Images' folder\n",
      "0 Audio files were moved to 'Audio' folder\n",
      "0 Video files were moved to 'Video' folder\n"
     ]
    }
   ],
   "source": [
    "count=0\n",
    "for f in files:\n",
    "    if re.search(r\"(?i)\\.pdf\",f):\n",
    "        pdffiles=os.path.join(src,f)\n",
    "        count+=1\n",
    "        shutil.move(pdffiles,pdf)\n",
    "print(count,\"Pdf files were moved to 'pdf' folder\")\n",
    "\n",
    "count=0\n",
    "for f in files:\n",
    "    if re.search(r\"(?i)\\.xlsx\",f):\n",
    "        xlfiles=os.path.join(src,f)\n",
    "        count+=1\n",
    "        shutil.move(xlfiles,Excel)\n",
    "print(count,\"Excel files were moved to 'Excel' folder\")\n",
    "\n",
    "count=0\n",
    "for f in files:\n",
    "    if re.search(r\"(?i)\\.txt\",f):\n",
    "        txtfiles=os.path.join(src,f)\n",
    "        count+=1\n",
    "        shutil.move(txtfiles,text)\n",
    "print(count,\"Text files were moved to 'text' folder\")\n",
    "\n",
    "count=0\n",
    "for f in files:\n",
    "    if re.search(r\"(?i)\\.docx\",f):\n",
    "        docfiles=os.path.join(src,f)\n",
    "        count+=1\n",
    "        shutil.move(docfiles,word)\n",
    "print(count,\"Word files were moved to 'word' folder\")\n",
    "\n",
    "count=0\n",
    "for f in files:\n",
    "    if re.search(r\"(?i)\\.csv\",f):\n",
    "        csvfiles=os.path.join(src,f)\n",
    "        count+=1\n",
    "        shutil.move(csvfiles,csv)\n",
    "print(count,\"CSV files were moved to 'csv' folder\")\n",
    "\n",
    "count=0\n",
    "for f in files:\n",
    "    if re.search(r\"(?i)\\.png\",f) or re.search(r\"(?i)\\.jpg\",f) or re.search(r\"(?i)\\.jpeg\",f) or re.search(r\"(?i)\\.xcf\",f):\n",
    "        imgfiles=os.path.join(src,f)\n",
    "        count+=1\n",
    "        shutil.move(imgfiles,Images)\n",
    "print(count,\"Image files were moved to 'Images' folder\")\n",
    "\n",
    "count=0\n",
    "for f in files:\n",
    "    if re.search(r\"(?i)\\.mp3\",f):\n",
    "        audio_files=os.path.join(src,f)\n",
    "        count+=1\n",
    "        shutil.move(audio_files,Audio)\n",
    "print(count,\"Audio files were moved to 'Audio' folder\")\n",
    "\n",
    "count=0\n",
    "for f in files:\n",
    "    if re.search(r\"(?i)\\.mov\",f) or re.search(r\"(?i)\\.wmv\",f) or re.search(r\"(?i)\\.mp4\",f) or re.search(r\"(?i)\\.mkv\",f):\n",
    "        video_files=os.path.join(src,f)\n",
    "        count+=1\n",
    "        shutil.move(video_files,Video)\n",
    "print(count,\"Video files were moved to 'Video' folder\")\n"
   ]
  }
 ],
 "metadata": {
  "kernelspec": {
   "display_name": "Python 3",
   "language": "python",
   "name": "python3"
  },
  "language_info": {
   "codemirror_mode": {
    "name": "ipython",
    "version": 3
   },
   "file_extension": ".py",
   "mimetype": "text/x-python",
   "name": "python",
   "nbconvert_exporter": "python",
   "pygments_lexer": "ipython3",
   "version": "3.8.10"
  }
 },
 "nbformat": 4,
 "nbformat_minor": 5
}
